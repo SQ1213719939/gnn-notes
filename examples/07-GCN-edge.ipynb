{
 "cells": [
  {
   "cell_type": "markdown",
   "id": "477a492f",
   "metadata": {},
   "source": [
    "# 七、 GCN-边预测"
   ]
  },
  {
   "cell_type": "code",
   "execution_count": null,
   "id": "e845b193",
   "metadata": {},
   "outputs": [],
   "source": []
  }
 ],
 "metadata": {
  "kernelspec": {
   "display_name": "py310",
   "language": "python",
   "name": "python3"
  },
  "language_info": {
   "name": "python",
   "version": "3.10.18"
  }
 },
 "nbformat": 4,
 "nbformat_minor": 5
}
